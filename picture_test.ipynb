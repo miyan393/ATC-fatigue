{
 "cells": [
  {
   "cell_type": "code",
   "execution_count": 40,
   "metadata": {},
   "outputs": [
    {
     "name": "stdout",
     "output_type": "stream",
     "text": [
      "(1, 1, 24, 24)\n",
      "1/1 [==============================] - 1s 1s/step\n",
      "1.265822172164917\n",
      "输出结果： [[0.]]\n"
     ]
    }
   ],
   "source": [
    "from __future__ import absolute_import\n",
    "from __future__ import print_function\n",
    "import numpy as np\n",
    "import os\n",
    "from keras.utils import plot_model\n",
    "import cv2\n",
    "from    keras.utils.vis_utils    import plot_model\n",
    "from keras.models import load_model\n",
    "import time\n",
    "\n",
    " \n",
    "model = load_model(r'F:\\xiangmu\\model.h5') #导入模型\n",
    "t0 = time.time()\n",
    "\n",
    "image = cv2.imread(r'F:\\xiangmu\\test6.jpg ',0)#这里第二个参数必须写0表示读取的是灰度图，否则默认是3通道彩色图\n",
    "#im = cv2.imread(r'F:\\硕士论文\\pilaojiance\\bin\\test.jpg')   中文目录下cv2.imread 有时不识别\n",
    "print(im.shape)\n",
    "\n",
    "im_min = cv2.resize(image, (24, 24), interpolation=cv2.INTER_CUBIC)#插值法缩小图片\n",
    "#cv2.imwrite( r'F:\\xiangmu\\testh4.jpg ', im)  保存缩小为24*24大小的眼部图像文件\n",
    "\n",
    "\n",
    "im= im_min.reshape(1,1,24,24).astype('float32')  #将灰度图24*24格式变成神经网络输入端的1*1*24*24格式\n",
    "\n",
    "\n",
    "\n",
    "\n",
    "\n",
    "q = model.predict(im, batch_size=1, verbose=1, steps = None)#闭眼为0 睁眼为1\n",
    "print(time.time()- t0)\n",
    "print(\"输出结果：\",q)"
   ]
  },
  {
   "cell_type": "code",
   "execution_count": null,
   "metadata": {},
   "outputs": [],
   "source": [
    "\n"
   ]
  },
  {
   "cell_type": "code",
   "execution_count": null,
   "metadata": {},
   "outputs": [],
   "source": []
  }
 ],
 "metadata": {
  "kernelspec": {
   "display_name": "Python 3",
   "language": "python",
   "name": "python3"
  },
  "language_info": {
   "codemirror_mode": {
    "name": "ipython",
    "version": 3
   },
   "file_extension": ".py",
   "mimetype": "text/x-python",
   "name": "python",
   "nbconvert_exporter": "python",
   "pygments_lexer": "ipython3",
   "version": "3.6.5"
  }
 },
 "nbformat": 4,
 "nbformat_minor": 2
}
